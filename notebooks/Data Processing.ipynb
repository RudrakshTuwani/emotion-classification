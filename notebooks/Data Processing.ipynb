{
 "cells": [
  {
   "cell_type": "code",
   "execution_count": 1,
   "metadata": {},
   "outputs": [],
   "source": [
    "import os\n",
    "import csv\n",
    "import pickle as pkl\n",
    "import numpy as np\n",
    "import pandas as pd\n",
    "from imageio import imsave"
   ]
  },
  {
   "cell_type": "markdown",
   "metadata": {},
   "source": [
    "### Set appropriate paths"
   ]
  },
  {
   "cell_type": "code",
   "execution_count": 2,
   "metadata": {},
   "outputs": [],
   "source": [
    "LABELS_FILE = '../data/fer2013new.csv'\n",
    "CSV_FILE= '../data/fer2013.csv'\n",
    "SAVE_LOC = '../data/'"
   ]
  },
  {
   "cell_type": "markdown",
   "metadata": {},
   "source": [
    "### Read the new labels file"
   ]
  },
  {
   "cell_type": "code",
   "execution_count": 3,
   "metadata": {},
   "outputs": [],
   "source": [
    "# Read labels file, dropping nas\n",
    "labels = pd.read_csv(LABELS_FILE).dropna(subset=['Image name'], axis=0)\n",
    "labels['Image name'] = labels.index\n",
    "\n",
    "# Get label based on majority vote\n",
    "labels['label'] = labels.apply(lambda row: row.iloc[2:].apply(int).idxmax(),\n",
    "                               axis=1)\n",
    "\n",
    "# Drop non-emotion majority labels\n",
    "labels = labels.loc[(labels['label'] != 'NF') &\n",
    "                    (labels['label'] != 'unknown') ]\n",
    "\n",
    "# Convert to a dictionary mapping file index to label\n",
    "fidx_to_label = labels.apply(lambda row: (row['Image name'],\n",
    "                                          row['label']), \n",
    "                            axis=1)\n",
    "fidx_to_label = dict(fidx_to_label.tolist())"
   ]
  },
  {
   "cell_type": "markdown",
   "metadata": {},
   "source": [
    "### Extract images from CSV and save to disk"
   ]
  },
  {
   "cell_type": "code",
   "execution_count": 4,
   "metadata": {},
   "outputs": [
    {
     "name": "stdout",
     "output_type": "stream",
     "text": [
      "Processed 1000 images.\n",
      "Processed 2000 images.\n",
      "Processed 3000 images.\n",
      "Processed 4000 images.\n",
      "Processed 5000 images.\n",
      "Processed 6000 images.\n",
      "Processed 7000 images.\n",
      "Processed 8000 images.\n",
      "Processed 9000 images.\n",
      "Processed 10000 images.\n",
      "Processed 11000 images.\n",
      "Processed 12000 images.\n",
      "Processed 13000 images.\n",
      "Processed 14000 images.\n",
      "Processed 15000 images.\n",
      "Processed 16000 images.\n",
      "Processed 17000 images.\n",
      "Processed 18000 images.\n",
      "Processed 19000 images.\n",
      "Processed 20000 images.\n",
      "Processed 21000 images.\n",
      "Processed 22000 images.\n",
      "Processed 23000 images.\n",
      "Processed 24000 images.\n",
      "Processed 25000 images.\n",
      "Processed 26000 images.\n",
      "Processed 27000 images.\n",
      "Processed 28000 images.\n",
      "Processed 29000 images.\n",
      "Processed 30000 images.\n",
      "Processed 31000 images.\n",
      "Processed 32000 images.\n",
      "Processed 33000 images.\n",
      "Processed 34000 images.\n",
      "Processed 35000 images.\n",
      "Processed 35887 images\n",
      "\n",
      "Finished!\n"
     ]
    }
   ],
   "source": [
    "with open(CSV_FILE, 'r') as csvfile:\n",
    "    images_csv = csv.reader(csvfile, delimiter =',')\n",
    "    headers = next(csvfile)\n",
    "\n",
    "    for idx, row in enumerate(images_csv):\n",
    "        try:\n",
    "            # Get image pixels from CSV file\n",
    "            _, pixel_row, usage = row\n",
    "            \n",
    "            # Get label from new labels file\n",
    "            emotion = fidx_to_label[idx]\n",
    "            \n",
    "            # Convert image to array\n",
    "            image = np.asarray(pixel_row.split(),\n",
    "                               dtype=np.uint8).reshape(48, 48)\n",
    "            image = np.repeat(image[:, :, None], 3, axis=2)\n",
    "\n",
    "            # Save to disk\n",
    "            save_dir = os.path.join(SAVE_LOC, usage, emotion)\n",
    "\n",
    "            if not os.path.exists(save_dir):\n",
    "                os.makedirs(save_dir)\n",
    "\n",
    "            image_file = os.path.join(save_dir, str(idx) + '.png')\n",
    "            imsave(image_file, image)\n",
    "        \n",
    "        except KeyError:\n",
    "            pass\n",
    "            \n",
    "        if (idx+1) % 1000 == 0:\n",
    "            print('Processed %i images.' % (idx+1))\n",
    "       \n",
    "print('Processed %i images' % (idx+1))\n",
    "print('\\nFinished!')"
   ]
  },
  {
   "cell_type": "code",
   "execution_count": 5,
   "metadata": {},
   "outputs": [],
   "source": [
    "os.rename(f'{SAVE_LOC}Training', f'{SAVE_LOC}train')\n",
    "os.rename(f'{SAVE_LOC}PublicTest', f'{SAVE_LOC}valid')\n",
    "os.rename(f'{SAVE_LOC}PrivateTest', f'{SAVE_LOC}test')"
   ]
  }
 ],
 "metadata": {
  "kernelspec": {
   "display_name": "Python 3",
   "language": "python",
   "name": "python3"
  },
  "language_info": {
   "codemirror_mode": {
    "name": "ipython",
    "version": 3
   },
   "file_extension": ".py",
   "mimetype": "text/x-python",
   "name": "python",
   "nbconvert_exporter": "python",
   "pygments_lexer": "ipython3",
   "version": "3.6.4"
  }
 },
 "nbformat": 4,
 "nbformat_minor": 2
}
